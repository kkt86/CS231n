{
 "cells": [
  {
   "cell_type": "markdown",
   "metadata": {},
   "source": [
    "# Fully connected NN\n",
    "\n",
    "In this script, we are implementing a fully connected, 3-layers NN with the following layers:\n",
    "\n",
    "* __DropOut__ for regularization\n",
    "* __BatchNormalization__ for effective optimization\n",
    "* __ReLU__ activation function\n",
    "* __SoftMax/SVM__ as loss function\n",
    "* __RMSProp/Adam__ as optimizer"
   ]
  },
  {
   "cell_type": "code",
   "execution_count": 61,
   "metadata": {
    "collapsed": true
   },
   "outputs": [],
   "source": [
    "from __future__ import print_function\n",
    "\n",
    "import numpy as np\n",
    "import torch\n",
    "import torchvision\n",
    "import torchvision.transforms as transforms"
   ]
  },
  {
   "cell_type": "code",
   "execution_count": 62,
   "metadata": {},
   "outputs": [
    {
     "name": "stdout",
     "output_type": "stream",
     "text": [
      "Train data shape: (7000, 3072)\n",
      "Test data shape: (3000, 3072)\n"
     ]
    }
   ],
   "source": [
    "### load sample of the data and split it to training and testing data\n",
    "def unpickle(file):\n",
    "    import cPickle\n",
    "    with open(file, 'rb') as fo:\n",
    "        dict = cPickle.load(fo)\n",
    "    return dict\n",
    "\n",
    "batch_1 = unpickle('../data/cifar-10-batches-py/data_batch_1')\n",
    "data = batch_1['data']\n",
    "labels = batch_1['labels']\n",
    "\n",
    "train_data = data[:7000,:]\n",
    "test_data = data[7000:,:]\n",
    "y_train = labels[:7000]\n",
    "y_test = labels[7000:]\n",
    "\n",
    "print(\"Train data shape: {}\".format(train_data.shape))\n",
    "print(\"Test data shape: {}\".format(test_data.shape))\n",
    "\n",
    "\n"
   ]
  },
  {
   "cell_type": "code",
   "execution_count": 87,
   "metadata": {
    "collapsed": true
   },
   "outputs": [],
   "source": [
    "### Normalize data and get batches of tensors\n",
    "means = train_data.mean(axis=0)\n",
    "stds = train_data.std(axis=0)\n",
    "\n",
    "X_train = (train_data - means)/stds\n",
    "X_test = (test_data - means)/stds\n",
    "\n",
    "train_dataset = torch.utils.data.TensorDataset(torch.Tensor(X_train), torch.Tensor(y_train))\n",
    "train_loader = iter(torch.utils.data.DataLoader(train_dataset, batch_size=8))\n",
    "\n",
    "test_dataset = torch.utils.data.TensorDataset(torch.Tensor(X_test), torch.Tensor(y_test))\n",
    "test_loader = iter(torch.utils.data.DataLoader(test_dataset, batch_size=8))"
   ]
  },
  {
   "cell_type": "code",
   "execution_count": 98,
   "metadata": {
    "collapsed": true
   },
   "outputs": [],
   "source": [
    "### define fully-connected NN\n",
    "from torch.autograd import Variable\n",
    "import torch.nn as nn\n",
    "import torch.nn.functional as F\n",
    "\n",
    "class Net(nn.Module):\n",
    "    def __init__(self, layers_sizes=[3072, 1024, 516, 10]):\n",
    "        super(Net, self).__init__()\n",
    "        \n",
    "        self.fc1 = nn.Linear(in_features=layers_sizes[0], out_features=layers_sizes[1])\n",
    "        self.fc2 = nn.Linear(in_features=layers_sizes[1], out_features=layers_sizes[2])\n",
    "        self.fc3 = nn.Linear(in_features=layers_sizes[2], out_features=10)\n",
    "        self.bn = nn.BatchNorm1d(num_features=layers_sizes[1])\n",
    "        \n",
    "    def forward(self, x):\n",
    "        x = F.dropout(F.relu(self.fc1(x)), p=0.2)\n",
    "        x = self.bn(x)\n",
    "        x = F.dropout(F.relu(self.fc2(x)), p=0.2)\n",
    "        y_pred = self.fc3(x)\n",
    "        return y_pred\n",
    "        \n",
    "net = Net()"
   ]
  },
  {
   "cell_type": "code",
   "execution_count": 99,
   "metadata": {
    "collapsed": true
   },
   "outputs": [],
   "source": [
    "### define loss criteria and optimizer\n",
    "import torch.optim as optim\n",
    "\n",
    "cross_entropy = nn.CrossEntropyLoss()\n",
    "optimizer = optim.Adam(net.parameters())"
   ]
  },
  {
   "cell_type": "code",
   "execution_count": 100,
   "metadata": {},
   "outputs": [
    {
     "name": "stdout",
     "output_type": "stream",
     "text": [
      "[1,   100] loss: 2.209\n",
      "[1,   200] loss: 2.085\n",
      "[1,   300] loss: 2.009\n",
      "[1,   400] loss: 1.999\n",
      "[1,   500] loss: 1.930\n",
      "[1,   600] loss: 1.938\n",
      "[1,   700] loss: 1.966\n",
      "[1,   800] loss: 1.858\n",
      "[2,   100] loss: 1.844\n",
      "[2,   200] loss: 1.794\n",
      "[2,   300] loss: 1.770\n",
      "[2,   400] loss: 1.806\n",
      "[2,   500] loss: 1.742\n",
      "[2,   600] loss: 1.781\n",
      "[2,   700] loss: 1.800\n",
      "[2,   800] loss: 1.673\n",
      "[3,   100] loss: 1.674\n",
      "[3,   200] loss: 1.617\n",
      "[3,   300] loss: 1.622\n",
      "[3,   400] loss: 1.655\n",
      "[3,   500] loss: 1.591\n",
      "[3,   600] loss: 1.632\n",
      "[3,   700] loss: 1.645\n",
      "[3,   800] loss: 1.505\n",
      "[4,   100] loss: 1.509\n",
      "[4,   200] loss: 1.440\n",
      "[4,   300] loss: 1.419\n",
      "[4,   400] loss: 1.478\n",
      "[4,   500] loss: 1.437\n",
      "[4,   600] loss: 1.458\n",
      "[4,   700] loss: 1.480\n",
      "[4,   800] loss: 1.343\n",
      "[5,   100] loss: 1.341\n",
      "[5,   200] loss: 1.254\n",
      "[5,   300] loss: 1.223\n",
      "[5,   400] loss: 1.282\n",
      "[5,   500] loss: 1.251\n",
      "[5,   600] loss: 1.238\n",
      "[5,   700] loss: 1.278\n",
      "[5,   800] loss: 1.167\n",
      "[6,   100] loss: 1.124\n",
      "[6,   200] loss: 1.040\n",
      "[6,   300] loss: 1.050\n",
      "[6,   400] loss: 1.042\n",
      "[6,   500] loss: 1.041\n",
      "[6,   600] loss: 1.036\n",
      "[6,   700] loss: 1.066\n",
      "[6,   800] loss: 0.965\n",
      "[7,   100] loss: 0.906\n",
      "[7,   200] loss: 0.797\n",
      "[7,   300] loss: 0.829\n",
      "[7,   400] loss: 0.883\n",
      "[7,   500] loss: 0.802\n",
      "[7,   600] loss: 0.783\n",
      "[7,   700] loss: 0.849\n",
      "[7,   800] loss: 0.792\n",
      "[8,   100] loss: 0.686\n",
      "[8,   200] loss: 0.630\n",
      "[8,   300] loss: 0.679\n",
      "[8,   400] loss: 0.655\n",
      "[8,   500] loss: 0.668\n",
      "[8,   600] loss: 0.675\n",
      "[8,   700] loss: 0.672\n",
      "[8,   800] loss: 0.649\n",
      "[9,   100] loss: 0.521\n",
      "[9,   200] loss: 0.490\n",
      "[9,   300] loss: 0.522\n",
      "[9,   400] loss: 0.523\n",
      "[9,   500] loss: 0.482\n",
      "[9,   600] loss: 0.519\n",
      "[9,   700] loss: 0.576\n",
      "[9,   800] loss: 0.498\n",
      "[10,   100] loss: 0.427\n",
      "[10,   200] loss: 0.403\n",
      "[10,   300] loss: 0.468\n",
      "[10,   400] loss: 0.423\n",
      "[10,   500] loss: 0.383\n",
      "[10,   600] loss: 0.476\n",
      "[10,   700] loss: 0.529\n",
      "[10,   800] loss: 0.475\n",
      "Finished Training\n"
     ]
    }
   ],
   "source": [
    "for epoch in range(10):  # loop over the dataset multiple times\n",
    "\n",
    "    train_loader = iter(torch.utils.data.DataLoader(train_dataset, batch_size=8))\n",
    "    running_loss = 0.0\n",
    "    for i, data in enumerate(train_loader, 0):\n",
    "        # get the inputs\n",
    "        inputs, labels = data\n",
    "\n",
    "        # wrap them in Variable\n",
    "        inputs, labels = Variable(inputs).type(torch.FloatTensor), Variable(labels).type(torch.LongTensor)\n",
    "\n",
    "        # zero the parameter gradients\n",
    "        optimizer.zero_grad()\n",
    "\n",
    "        # forward + backward + optimize\n",
    "        outputs = net(inputs)\n",
    "        loss = cross_entropy(outputs, labels)\n",
    "        loss.backward()\n",
    "        optimizer.step()\n",
    "\n",
    "        # print statistics\n",
    "        running_loss += loss.data[0]\n",
    "        if i % 100 == 99:    # print every 2000 mini-batches\n",
    "            print('[%d, %5d] loss: %.3f' %\n",
    "                  (epoch + 1, i + 1, running_loss / 100))\n",
    "            running_loss = 0.0\n",
    "print('Finished Training')"
   ]
  },
  {
   "cell_type": "code",
   "execution_count": 101,
   "metadata": {},
   "outputs": [],
   "source": [
    "### Make predictions\n",
    "pred = net(Variable(test_loader.dataset.data_tensor))\n",
    "predicted_classes = torch.max(pred, 1)[1].data.numpy()\n",
    "true_labels = test_loader.dataset.target_tensor.numpy()"
   ]
  },
  {
   "cell_type": "code",
   "execution_count": 102,
   "metadata": {},
   "outputs": [
    {
     "data": {
      "text/plain": [
       "array([[134,  19,  31,  10,  14,   2,   6,  17,  70,   9],\n",
       "       [ 14, 176,   7,  13,   8,   6,   7,   9,  30,  46],\n",
       "       [ 21,   8, 102,  38,  57,  18,  36,  11,  17,   5],\n",
       "       [  6,  19,  28, 109,  21,  47,  46,  15,  17,  12],\n",
       "       [ 16,   6,  50,  23,  75,  16,  43,  35,  12,   4],\n",
       "       [  5,  13,  30,  64,  19,  71,  33,  14,  13,   4],\n",
       "       [  3,   9,  34,  47,  31,   6, 148,   9,  10,   8],\n",
       "       [  8,  17,  23,  24,  33,  24,  18, 132,  10,  10],\n",
       "       [ 35,  32,   3,   9,  16,   6,   3,   9, 184,  18],\n",
       "       [ 21,  66,   3,  11,   8,   6,  10,  16,  28, 105]])"
      ]
     },
     "execution_count": 102,
     "metadata": {},
     "output_type": "execute_result"
    }
   ],
   "source": [
    "### Print confusion matrix\n",
    "from sklearn.metrics import confusion_matrix\n",
    "\n",
    "confusion_matrix(true_labels, predicted_classes)"
   ]
  },
  {
   "cell_type": "code",
   "execution_count": null,
   "metadata": {
    "collapsed": true
   },
   "outputs": [],
   "source": []
  }
 ],
 "metadata": {
  "kernelspec": {
   "display_name": "Python 2",
   "language": "python",
   "name": "python2"
  },
  "language_info": {
   "codemirror_mode": {
    "name": "ipython",
    "version": 2
   },
   "file_extension": ".py",
   "mimetype": "text/x-python",
   "name": "python",
   "nbconvert_exporter": "python",
   "pygments_lexer": "ipython2",
   "version": "2.7.13"
  }
 },
 "nbformat": 4,
 "nbformat_minor": 2
}
