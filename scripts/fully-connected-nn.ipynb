{
 "cells": [
  {
   "cell_type": "markdown",
   "metadata": {},
   "source": [
    "# Fully connected NN\n",
    "\n",
    "In this script, we are implementing a fully connected, 3-layers NN with the following layers:\n",
    "\n",
    "* __DropOut__ for regularization\n",
    "* __BatchNormalization__ for effective optimization\n",
    "* __ReLU__ activation function\n",
    "* __SoftMax/SVM__ as loss function\n",
    "* __RMSProp/Adam__ as optimizer"
   ]
  },
  {
   "cell_type": "code",
   "execution_count": 1,
   "metadata": {
    "collapsed": true
   },
   "outputs": [],
   "source": [
    "from __future__ import print_function\n",
    "\n",
    "import numpy as np\n",
    "import torch\n",
    "import torchvision\n",
    "import torchvision.transforms as transforms"
   ]
  },
  {
   "cell_type": "code",
   "execution_count": 2,
   "metadata": {},
   "outputs": [
    {
     "name": "stdout",
     "output_type": "stream",
     "text": [
      "Train data shape: (7000, 3072)\n",
      "Test data shape: (3000, 3072)\n"
     ]
    }
   ],
   "source": [
    "### load sample of the data and split it to training and testing data\n",
    "def unpickle(file):\n",
    "    import cPickle\n",
    "    with open(file, 'rb') as fo:\n",
    "        dict = cPickle.load(fo)\n",
    "    return dict\n",
    "\n",
    "batch_1 = unpickle('../data/cifar-10-batches-py/data_batch_1')\n",
    "data = batch_1['data']\n",
    "labels = batch_1['labels']\n",
    "\n",
    "train_data = data[:7000,:]\n",
    "test_data = data[7000:,:]\n",
    "y_train = labels[:7000]\n",
    "y_test = labels[7000:]\n",
    "\n",
    "print(\"Train data shape: {}\".format(train_data.shape))\n",
    "print(\"Test data shape: {}\".format(test_data.shape))\n",
    "\n",
    "\n"
   ]
  },
  {
   "cell_type": "code",
   "execution_count": 25,
   "metadata": {
    "collapsed": true
   },
   "outputs": [],
   "source": [
    "### Normalize data and get batches of tensors\n",
    "means = train_data.mean(axis=0)\n",
    "stds = train_data.std(axis=0)\n",
    "\n",
    "X_train = (train_data - means)/stds\n",
    "X_test = (test_data - means)/stds\n",
    "\n",
    "train_dataset = torch.utils.data.TensorDataset(torch.Tensor(X_train), torch.Tensor(y_train))\n",
    "train_loader = iter(torch.utils.data.DataLoader(train_dataset, batch_size=8))\n",
    "\n",
    "test_dataset = torch.utils.data.TensorDataset(torch.Tensor(X_test), torch.Tensor(y_test))\n",
    "test_loader = iter(torch.utils.data.DataLoader(test_dataset, batch_size=8))"
   ]
  },
  {
   "cell_type": "code",
   "execution_count": 56,
   "metadata": {
    "collapsed": true
   },
   "outputs": [],
   "source": [
    "### define fully-connected NN\n",
    "from torch.autograd import Variable\n",
    "import torch.nn as nn\n",
    "import torch.nn.functional as F\n",
    "\n",
    "class Net(nn.Module):\n",
    "    def __init__(self, layers_sizes=[3072, 1024, 516, 10]):\n",
    "        super(Net, self).__init__()\n",
    "        \n",
    "        self.fc1 = nn.Linear(in_features=layers_sizes[0], out_features=layers_sizes[1])\n",
    "        self.fc2 = nn.Linear(in_features=layers_sizes[1], out_features=layers_sizes[2])\n",
    "        self.fc3 = nn.Linear(in_features=layers_sizes[2], out_features=10)\n",
    "        self.bn = nn.BatchNorm1d(num_features=layers_sizes[1])\n",
    "        \n",
    "    def forward(self, x):\n",
    "        x = F.dropout(F.relu(self.fc1(x)), p=0.2)\n",
    "        x = self.bn(x)\n",
    "        x = F.dropout(F.relu(self.fc2(x)), p=0.2)\n",
    "        y_pred = self.fc3(x)\n",
    "        return y_pred\n",
    "        \n",
    "net = Net()"
   ]
  },
  {
   "cell_type": "code",
   "execution_count": 57,
   "metadata": {},
   "outputs": [],
   "source": [
    "### define loss criteria and optimizer\n",
    "import torch.optim as optim\n",
    "\n",
    "cross_entropy = nn.CrossEntropyLoss()\n",
    "optimizer = optim.Adam(net.parameters())"
   ]
  },
  {
   "cell_type": "code",
   "execution_count": 66,
   "metadata": {},
   "outputs": [
    {
     "name": "stdout",
     "output_type": "stream",
     "text": [
      "Finished Training\n"
     ]
    }
   ],
   "source": [
    "for epoch in range(2):  # loop over the dataset multiple times\n",
    "\n",
    "    running_loss = 0.0\n",
    "    for i, data in enumerate(train_loader, 0):\n",
    "        # get the inputs\n",
    "        inputs, labels = data\n",
    "\n",
    "        # wrap them in Variable\n",
    "        inputs, labels = Variable(inputs).type(torch.FloatTensor), Variable(labels).type(torch.LongTensor)\n",
    "\n",
    "        # zero the parameter gradients\n",
    "        optimizer.zero_grad()\n",
    "\n",
    "        # forward + backward + optimize\n",
    "        outputs = net(inputs)\n",
    "        loss = cross_entropy(outputs, labels)\n",
    "        loss.backward()\n",
    "        optimizer.step()\n",
    "\n",
    "        # print statistics\n",
    "        running_loss += loss.data[0]\n",
    "        if i % 100 == 99:    # print every 2000 mini-batches\n",
    "            print('[%d, %5d] loss: %.3f' %\n",
    "                  (epoch + 1, i + 1, running_loss / 100))\n",
    "            running_loss = 0.0\n",
    "\n",
    "print('Finished Training')"
   ]
  },
  {
   "cell_type": "code",
   "execution_count": null,
   "metadata": {
    "collapsed": true
   },
   "outputs": [],
   "source": [
    "### Make predictions"
   ]
  },
  {
   "cell_type": "code",
   "execution_count": null,
   "metadata": {
    "collapsed": true
   },
   "outputs": [],
   "source": []
  }
 ],
 "metadata": {
  "kernelspec": {
   "display_name": "Python 2",
   "language": "python",
   "name": "python2"
  },
  "language_info": {
   "codemirror_mode": {
    "name": "ipython",
    "version": 2
   },
   "file_extension": ".py",
   "mimetype": "text/x-python",
   "name": "python",
   "nbconvert_exporter": "python",
   "pygments_lexer": "ipython2",
   "version": "2.7.13"
  }
 },
 "nbformat": 4,
 "nbformat_minor": 2
}
