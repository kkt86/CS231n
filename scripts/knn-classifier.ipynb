{
 "cells": [
  {
   "cell_type": "code",
   "execution_count": 31,
   "metadata": {
    "collapsed": true
   },
   "outputs": [],
   "source": [
    "### import \n",
    "import torch\n",
    "import torchvision\n",
    "import numpy as np"
   ]
  },
  {
   "cell_type": "code",
   "execution_count": 3,
   "metadata": {},
   "outputs": [
    {
     "name": "stdout",
     "output_type": "stream",
     "text": [
      "Files already downloaded and verified\n",
      "Files already downloaded and verified\n"
     ]
    }
   ],
   "source": [
    "### load data\n",
    "trainset = torchvision.datasets.CIFAR10(root='../data/', train=True, download=True)\n",
    "testset = torchvision.datasets.CIFAR10(root='../data/', train=False, download=True)"
   ]
  },
  {
   "cell_type": "code",
   "execution_count": 4,
   "metadata": {
    "collapsed": true
   },
   "outputs": [],
   "source": [
    "# transform training and testing data to array of Tensors\n",
    "from torchvision.transforms import Compose, ToPILImage, ToTensor\n",
    "\n",
    "transform = Compose([ToPILImage(), ToTensor()])\n",
    "\n",
    "traindata = [transform(img) for img in trainset.train_data]\n",
    "testdata = [transform(img) for img in testset.test_data]"
   ]
  },
  {
   "cell_type": "code",
   "execution_count": 56,
   "metadata": {
    "collapsed": true
   },
   "outputs": [],
   "source": [
    "class Kmeans():\n",
    "    def __init__(self, k = 1):\n",
    "        self.k = k\n",
    "    \n",
    "    def train(self, traindata, labels):\n",
    "        self.traindata = traindata\n",
    "        self.train_labels = np.array(labels)\n",
    "        \n",
    "    def predict(self, testdata):\n",
    "        prediction = np.array([])\n",
    "        for y in testdata:\n",
    "            # get distances\n",
    "            distances = np.array([(x - y).norm(p=1) for x in self.traindata])\n",
    "            # get indeces, that sort distances\n",
    "            indeces = distances.argsort()\n",
    "            top_labels = labels[indeces[:self.k]]\n",
    "            # predict the most frequent value\n",
    "            pred = np.bincount(top_labels).argmax()\n",
    "            # append to predictions\n",
    "            prediction = np.append(prediction, pred)\n",
    "        \n",
    "        return prediction\n",
    "            "
   ]
  },
  {
   "cell_type": "code",
   "execution_count": 57,
   "metadata": {
    "collapsed": true
   },
   "outputs": [],
   "source": [
    "kmeans = Kmeans(k = 1)\n",
    "kmeans.train(traindata, trainset.train_labels)"
   ]
  },
  {
   "cell_type": "code",
   "execution_count": null,
   "metadata": {
    "collapsed": true
   },
   "outputs": [],
   "source": [
    "prediction = kmeans.predict(testdata)"
   ]
  },
  {
   "cell_type": "code",
   "execution_count": null,
   "metadata": {
    "collapsed": true
   },
   "outputs": [],
   "source": []
  },
  {
   "cell_type": "code",
   "execution_count": null,
   "metadata": {
    "collapsed": true
   },
   "outputs": [],
   "source": []
  },
  {
   "cell_type": "code",
   "execution_count": null,
   "metadata": {
    "collapsed": true
   },
   "outputs": [],
   "source": []
  },
  {
   "cell_type": "code",
   "execution_count": null,
   "metadata": {
    "collapsed": true
   },
   "outputs": [],
   "source": []
  }
 ],
 "metadata": {
  "kernelspec": {
   "display_name": "Python 2",
   "language": "python",
   "name": "python2"
  },
  "language_info": {
   "codemirror_mode": {
    "name": "ipython",
    "version": 2
   },
   "file_extension": ".py",
   "mimetype": "text/x-python",
   "name": "python",
   "nbconvert_exporter": "python",
   "pygments_lexer": "ipython2",
   "version": "2.7.13"
  }
 },
 "nbformat": 4,
 "nbformat_minor": 2
}
